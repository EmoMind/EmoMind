import requests

text = input("User:")
emotion = input("Mood:")
personage = "humor"

url = "http://127.0.0.1:5000/answer"
request = {"text": text, "emotion": emotion, "personage": personage}
response = requests.post(url, json=request)

response.json()["answer"]
