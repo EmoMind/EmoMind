{
 "cells": [
  {
   "cell_type": "code",
   "execution_count": 1,
   "id": "131ce244-e350-4f3b-9212-1f40a288a3b8",
   "metadata": {},
   "outputs": [
    {
     "name": "stdout",
     "output_type": "stream",
     "text": [
      "\u001b[33mWARNING: Running pip as the 'root' user can result in broken permissions and conflicting behaviour with the system package manager. It is recommended to use a virtual environment instead: https://pip.pypa.io/warnings/venv\u001b[0m\u001b[33m\n",
      "\u001b[0m"
     ]
    }
   ],
   "source": [
    "!pip install -q transformers torch numpy pandas scikit-learn"
   ]
  },
  {
   "cell_type": "code",
   "execution_count": 2,
   "id": "13a5f37b-a223-4ecb-90ce-da4725952f2e",
   "metadata": {},
   "outputs": [
    {
     "name": "stdout",
     "output_type": "stream",
     "text": [
      "--2023-07-11 20:25:21--  https://huggingface.co/datasets/KELONMYOSA/dusha_emotion_audio/resolve/main/data/test.tar.gz\n",
      "Resolving huggingface.co (huggingface.co)... 99.84.108.87, 99.84.108.129, 99.84.108.55, ...\n",
      "Connecting to huggingface.co (huggingface.co)|99.84.108.87|:443... connected.\n",
      "HTTP request sent, awaiting response... 302 Found\n",
      "Location: https://cdn-lfs.huggingface.co/repos/f9/36/f936cc9a1834dea987df3d43bad12716beb9c022f2f51034d7372be499277925/c781fa6c20cafcda001dbf2b195ef60da536b8dba06e791286ff67345614d920?response-content-disposition=attachment%3B+filename*%3DUTF-8%27%27test.tar.gz%3B+filename%3D%22test.tar.gz%22%3B&response-content-type=application%2Fgzip&Expires=1689366322&Policy=eyJTdGF0ZW1lbnQiOlt7IkNvbmRpdGlvbiI6eyJEYXRlTGVzc1RoYW4iOnsiQVdTOkVwb2NoVGltZSI6MTY4OTM2NjMyMn19LCJSZXNvdXJjZSI6Imh0dHBzOi8vY2RuLWxmcy5odWdnaW5nZmFjZS5jby9yZXBvcy9mOS8zNi9mOTM2Y2M5YTE4MzRkZWE5ODdkZjNkNDNiYWQxMjcxNmJlYjljMDIyZjJmNTEwMzRkNzM3MmJlNDk5Mjc3OTI1L2M3ODFmYTZjMjBjYWZjZGEwMDFkYmYyYjE5NWVmNjBkYTUzNmI4ZGJhMDZlNzkxMjg2ZmY2NzM0NTYxNGQ5MjA%7EcmVzcG9uc2UtY29udGVudC1kaXNwb3NpdGlvbj0qJnJlc3BvbnNlLWNvbnRlbnQtdHlwZT0qIn1dfQ__&Signature=QY0fzC5VA8JNvm6a92R4CRVzo1IjwhsJyyPfqqiI4bM7VTInVIfm6PhqKe2qoRtJdd1NVrhSSivhjIJuZUauorDKYD54LhG7ZyyD-zE08LTB062S1kzICXfJnvZbAekCc2dcY2F7WsTPVmZgo7KyKDmkkYTnU-YylCMf8G522TLihSvQQE2zm31dsRD4OqB1G-4UZyaCJI%7ET2RV8XXkymeAUjR0I1gHLsmKTslkH4FuMIFfKeNgWVmW-kMh57sZxeYpBzp9n836NrmQNav5VW304kmqCaHwE8jv5f9LcsOO6sZm-0QPrkqooVfWEIXZ6ug7ioRgbK6cOuROM1cZ2sw__&Key-Pair-Id=KVTP0A1DKRTAX [following]\n",
      "--2023-07-11 20:25:22--  https://cdn-lfs.huggingface.co/repos/f9/36/f936cc9a1834dea987df3d43bad12716beb9c022f2f51034d7372be499277925/c781fa6c20cafcda001dbf2b195ef60da536b8dba06e791286ff67345614d920?response-content-disposition=attachment%3B+filename*%3DUTF-8%27%27test.tar.gz%3B+filename%3D%22test.tar.gz%22%3B&response-content-type=application%2Fgzip&Expires=1689366322&Policy=eyJTdGF0ZW1lbnQiOlt7IkNvbmRpdGlvbiI6eyJEYXRlTGVzc1RoYW4iOnsiQVdTOkVwb2NoVGltZSI6MTY4OTM2NjMyMn19LCJSZXNvdXJjZSI6Imh0dHBzOi8vY2RuLWxmcy5odWdnaW5nZmFjZS5jby9yZXBvcy9mOS8zNi9mOTM2Y2M5YTE4MzRkZWE5ODdkZjNkNDNiYWQxMjcxNmJlYjljMDIyZjJmNTEwMzRkNzM3MmJlNDk5Mjc3OTI1L2M3ODFmYTZjMjBjYWZjZGEwMDFkYmYyYjE5NWVmNjBkYTUzNmI4ZGJhMDZlNzkxMjg2ZmY2NzM0NTYxNGQ5MjA%7EcmVzcG9uc2UtY29udGVudC1kaXNwb3NpdGlvbj0qJnJlc3BvbnNlLWNvbnRlbnQtdHlwZT0qIn1dfQ__&Signature=QY0fzC5VA8JNvm6a92R4CRVzo1IjwhsJyyPfqqiI4bM7VTInVIfm6PhqKe2qoRtJdd1NVrhSSivhjIJuZUauorDKYD54LhG7ZyyD-zE08LTB062S1kzICXfJnvZbAekCc2dcY2F7WsTPVmZgo7KyKDmkkYTnU-YylCMf8G522TLihSvQQE2zm31dsRD4OqB1G-4UZyaCJI%7ET2RV8XXkymeAUjR0I1gHLsmKTslkH4FuMIFfKeNgWVmW-kMh57sZxeYpBzp9n836NrmQNav5VW304kmqCaHwE8jv5f9LcsOO6sZm-0QPrkqooVfWEIXZ6ug7ioRgbK6cOuROM1cZ2sw__&Key-Pair-Id=KVTP0A1DKRTAX\n",
      "Resolving cdn-lfs.huggingface.co (cdn-lfs.huggingface.co)... 108.138.64.121, 108.138.64.36, 108.138.64.49, ...\n",
      "Connecting to cdn-lfs.huggingface.co (cdn-lfs.huggingface.co)|108.138.64.121|:443... connected.\n",
      "HTTP request sent, awaiting response... 200 OK\n",
      "Length: 2251610073 (2.1G) [application/gzip]\n",
      "Saving to: ‘test.tar.gz’\n",
      "\n",
      "test.tar.gz         100%[===================>]   2.10G  53.5MB/s    in 48s     \n",
      "\n",
      "2023-07-11 20:26:10 (45.0 MB/s) - ‘test.tar.gz’ saved [2251610073/2251610073]\n",
      "\n"
     ]
    }
   ],
   "source": [
    "! wget https://huggingface.co/datasets/KELONMYOSA/dusha_emotion_audio/resolve/main/data/test.tar.gz --no-check-certificate"
   ]
  },
  {
   "cell_type": "code",
   "execution_count": null,
   "id": "0d555c6e-d72b-4afc-8239-4faf70a6d379",
   "metadata": {},
   "outputs": [],
   "source": [
    "! tar -xvzf test.tar.gz"
   ]
  },
  {
   "cell_type": "code",
   "execution_count": 4,
   "id": "a6c9f6f6-cb16-4507-9cb2-62b25ac0a549",
   "metadata": {},
   "outputs": [],
   "source": [
    "import datasets\n",
    "import transformers\n",
    "import pandas as pd\n",
    "import sklearn\n",
    "import torch\n",
    "import numpy as np"
   ]
  },
  {
   "cell_type": "code",
   "execution_count": 5,
   "id": "fb6919d5-61da-4c4e-b2e3-531fa78a64fa",
   "metadata": {},
   "outputs": [],
   "source": [
    "label2emotion = {\n",
    "    0: \"neutral\",\n",
    "    1: \"positive\",\n",
    "    2: \"sad\",\n",
    "    3: \"angry\",\n",
    "    4: \"other\"\n",
    "}"
   ]
  },
  {
   "cell_type": "code",
   "execution_count": 6,
   "id": "e6a41fe0-ae5a-48e3-a8dd-b274b2b53342",
   "metadata": {},
   "outputs": [],
   "source": [
    "dataset_dataframe = pd.read_csv('test.csv')\n",
    "dataset_dataframe.columns = ['file', 'label']\n",
    "dataset_dataframe['emotion'] = dataset_dataframe['label'].replace(label2emotion)\n",
    "text_frame = pd.read_csv('test_with_text.csv')\n",
    "text_frame.rename(columns={'audio_path':'file'}, inplace=True)\n",
    "text_frame.drop(columns=['Unnamed: 0'], inplace=True)\n",
    "dataset_dataframe = dataset_dataframe.merge(text_frame, how='left', on='file').drop(columns=['emotion'])\n",
    "dataset_dataframe['predicted_text'].fillna(' ', inplace=True)"
   ]
  },
  {
   "cell_type": "code",
   "execution_count": 7,
   "id": "aaf1d2a7-56a7-45eb-aca4-82692a6a87b1",
   "metadata": {},
   "outputs": [],
   "source": [
    "train_dataset_dataframe = pd.read_csv('train_dataset.csv')\n",
    "train_text_frame = pd.read_csv('train_with_text.csv')"
   ]
  },
  {
   "cell_type": "code",
   "execution_count": 8,
   "id": "f0f1a50e-7696-41f2-b772-f449e69b47cf",
   "metadata": {},
   "outputs": [],
   "source": [
    "train_text_frame.rename(columns = {'audio_path':'file'}, inplace=True)\n",
    "train_text_frame.drop(columns=['Unnamed: 0'], inplace=True)"
   ]
  },
  {
   "cell_type": "code",
   "execution_count": 9,
   "id": "c9bcbff1-b8c1-43fd-9ab6-b4c47ddca8e2",
   "metadata": {},
   "outputs": [],
   "source": [
    "train_dataset_dataframe.rename(columns = {'audio_path':'file'}, inplace=True)"
   ]
  },
  {
   "cell_type": "code",
   "execution_count": 10,
   "id": "c8086a70-4b3b-4f90-95da-e702b52a907e",
   "metadata": {},
   "outputs": [],
   "source": [
    "train_frame = train_text_frame.merge(train_dataset_dataframe, how='left', on='file')"
   ]
  },
  {
   "cell_type": "code",
   "execution_count": 11,
   "id": "99822b6a-2115-4184-b30c-bb488062f553",
   "metadata": {},
   "outputs": [
    {
     "name": "stdout",
     "output_type": "stream",
     "text": [
      "<class 'pandas.core.frame.DataFrame'>\n",
      "RangeIndex: 158416 entries, 0 to 158415\n",
      "Data columns (total 3 columns):\n",
      " #   Column          Non-Null Count   Dtype \n",
      "---  ------          --------------   ----- \n",
      " 0   file            158416 non-null  object\n",
      " 1   predicted_text  158416 non-null  object\n",
      " 2   label           158416 non-null  object\n",
      "dtypes: object(3)\n",
      "memory usage: 3.6+ MB\n"
     ]
    }
   ],
   "source": [
    "train_frame.info()"
   ]
  },
  {
   "cell_type": "code",
   "execution_count": 12,
   "id": "418f8ab4-d794-4337-b845-e7051f278529",
   "metadata": {},
   "outputs": [],
   "source": [
    "def accuracy(y_true, y_pred) -> float:\n",
    "    return torch.sum(y_true == y_pred)"
   ]
  },
  {
   "cell_type": "code",
   "execution_count": 13,
   "id": "3795d096-0a09-4d8f-97cc-92fd77c047cf",
   "metadata": {},
   "outputs": [],
   "source": [
    "import torch\n",
    "from transformers import AutoModelForSequenceClassification, BertForSequenceClassification\n",
    "from transformers import BertTokenizerFast, AutoTokenizer\n",
    "from tqdm.notebook import tqdm\n",
    "from torch.utils.data import DataLoader, Dataset\n",
    "import torchaudio\n",
    "import torch\n",
    "from typing import List\n",
    "from transformers import get_linear_schedule_with_warmup\n",
    "import time\n",
    "from torch.optim import AdamW\n",
    "from transformers.optimization import Adafactor\n",
    "import torch.nn as nn"
   ]
  },
  {
   "cell_type": "code",
   "execution_count": 47,
   "id": "72f3900a-0b92-47a2-b3e5-2a63c61d7471",
   "metadata": {},
   "outputs": [],
   "source": [
    "classes = ['sad', 'neutral', 'angry', 'positive', 'other']"
   ]
  },
  {
   "cell_type": "code",
   "execution_count": 48,
   "id": "d5a7392b-214f-42e2-ae20-2d73fee4cd5e",
   "metadata": {},
   "outputs": [
    {
     "name": "stdout",
     "output_type": "stream",
     "text": [
      "sad 8000\n",
      "neutral 8000\n",
      "angry 8000\n",
      "positive 8000\n",
      "other 8554\n"
     ]
    }
   ],
   "source": [
    "for class_ in classes:\n",
    "    print(class_, len(dataset.loc[dataset['label'] == class_]))"
   ]
  },
  {
   "cell_type": "code",
   "execution_count": 44,
   "id": "03f04e5a-0677-43a8-8a7c-3700e83174dd",
   "metadata": {},
   "outputs": [],
   "source": [
    "datasets = []\n",
    "for class_ in classes:\n",
    "    datasets.append(train_frame.loc[train_frame['label'] == class_][:8000])\n",
    "datasets += [train_frame.loc[train_frame['label'] == 'other']]*25"
   ]
  },
  {
   "cell_type": "code",
   "execution_count": 45,
   "id": "87f0705b-ae4f-4991-a61f-4997ace134a4",
   "metadata": {},
   "outputs": [],
   "source": [
    "dataset = pd.concat(datasets)"
   ]
  },
  {
   "cell_type": "code",
   "execution_count": 46,
   "id": "3eb008d2-2d74-4fa6-9b21-ab0c964cd3f2",
   "metadata": {},
   "outputs": [
    {
     "data": {
      "text/plain": [
       "40554"
      ]
     },
     "execution_count": 46,
     "metadata": {},
     "output_type": "execute_result"
    }
   ],
   "source": [
    "len(dataset)"
   ]
  },
  {
   "cell_type": "code",
   "execution_count": 49,
   "id": "31bdf46c-14d9-4917-b900-624dc4c49b22",
   "metadata": {},
   "outputs": [],
   "source": [
    "def pad_tensor(vec, pad, dim):\n",
    "    \"\"\"\n",
    "    args:\n",
    "        vec - tensor to pad\n",
    "        pad - the size to pad to\n",
    "        dim - dimension to pad\n",
    "\n",
    "    return:\n",
    "        a new tensor padded to 'pad' in dimension 'dim'\n",
    "    \"\"\"\n",
    "    pad_size = list(vec.shape)\n",
    "    pad_size[dim] = pad - vec.size(dim)\n",
    "    return torch.cat([vec, torch.zeros(*pad_size)], dim=dim)\n",
    "\n",
    "class PadCollate:\n",
    "    \"\"\"\n",
    "    a variant of callate_fn that pads according to the longest sequence in\n",
    "    a batch of sequences\n",
    "    \"\"\"\n",
    "\n",
    "    def __init__(self, dim=0):\n",
    "        \"\"\"\n",
    "        args:\n",
    "            dim - the dimension to be padded (dimension of time in sequences)\n",
    "        \"\"\"\n",
    "        self.dim = dim\n",
    "\n",
    "    def pad_collate(self, batch):\n",
    "        \"\"\"\n",
    "        args:\n",
    "            batch - list of (tensor, label)\n",
    "\n",
    "        reutrn:\n",
    "            xs - a tensor of all examples in 'batch' after padding\n",
    "            ys - a LongTensor of all labels in batch\n",
    "        \"\"\"\n",
    "        # find longest sequence\n",
    "        max_len = max(map(lambda x: x[0].shape[self.dim], batch))\n",
    "        # pad\n",
    "        data = [pad_tensor(x[0], pad=max_len, dim=self.dim) for x in batch]\n",
    "        # stack all\n",
    "        xs = torch.stack(data, dim=0)\n",
    "        ys = torch.LongTensor([y[1] for y in batch])\n",
    "        return xs, ys\n",
    "\n",
    "    def __call__(self, batch):\n",
    "        return self.pad_collate(batch)\n",
    "\n",
    "collator = PadCollate(dim=1)"
   ]
  },
  {
   "cell_type": "code",
   "execution_count": 50,
   "id": "5fc183ac-8a20-48b6-b5f6-fbdf34293acb",
   "metadata": {},
   "outputs": [
    {
     "data": {
      "application/vnd.jupyter.widget-view+json": {
       "model_id": "88116591c0804a0297515a19a4a9d0a7",
       "version_major": 2,
       "version_minor": 0
      },
      "text/plain": [
       "Downloading (…)okenizer_config.json:   0%|          | 0.00/379 [00:00<?, ?B/s]"
      ]
     },
     "metadata": {},
     "output_type": "display_data"
    },
    {
     "data": {
      "application/vnd.jupyter.widget-view+json": {
       "model_id": "8911c2926ea34c8dba6078ad279e628a",
       "version_major": 2,
       "version_minor": 0
      },
      "text/plain": [
       "Downloading (…)solve/main/vocab.txt:   0%|          | 0.00/1.08M [00:00<?, ?B/s]"
      ]
     },
     "metadata": {},
     "output_type": "display_data"
    },
    {
     "data": {
      "application/vnd.jupyter.widget-view+json": {
       "model_id": "42140f650e3e4454846ce7f946b179c0",
       "version_major": 2,
       "version_minor": 0
      },
      "text/plain": [
       "Downloading (…)/main/tokenizer.json:   0%|          | 0.00/2.41M [00:00<?, ?B/s]"
      ]
     },
     "metadata": {},
     "output_type": "display_data"
    },
    {
     "data": {
      "application/vnd.jupyter.widget-view+json": {
       "model_id": "861707697b1b405f9a6129daea6b13a5",
       "version_major": 2,
       "version_minor": 0
      },
      "text/plain": [
       "Downloading (…)cial_tokens_map.json:   0%|          | 0.00/112 [00:00<?, ?B/s]"
      ]
     },
     "metadata": {},
     "output_type": "display_data"
    }
   ],
   "source": [
    "tokenizer = AutoTokenizer.from_pretrained('Aniemore/rubert-tiny2-russian-emotion-detection')"
   ]
  },
  {
   "cell_type": "code",
   "execution_count": 51,
   "id": "2373046d-d1ee-42a0-a7ae-707bfc0f00e2",
   "metadata": {},
   "outputs": [],
   "source": [
    "class TestDataset(Dataset):\n",
    "    def __init__(self, dataframe, train: bool = True, shuffle: bool = True):\n",
    "        # self.n = 0.8\n",
    "        self.data = dataframe\n",
    "        \n",
    "        # size = int(len(dataframe)*self.n)\n",
    "        if shuffle:\n",
    "            mask = torch.randperm(len(dataframe))\n",
    "            self.data = self.data.iloc[mask]\n",
    "        # if train:\n",
    "        #     self.data = self.data[:size]\n",
    "        # else:\n",
    "        #     self.data = self.data[size:]\n",
    "\n",
    "        self.emotion2label = {\n",
    "            \"neutral\":0,\n",
    "            \"positive\":1,\n",
    "            \"sad\":2,\n",
    "            \"angry\":3,\n",
    "            \"other\":4\n",
    "        }\n",
    "        self.texts = self.data['predicted_text'].values\n",
    "        self.labels = self.data['label'].values\n",
    "        self.tokens = [self.tokenize_function(x) for x in self.texts]\n",
    "\n",
    "    def tokenize_function(self, text):\n",
    "        return tokenizer(text, max_length=512, padding='max_length', return_tensors='pt')\n",
    "\n",
    "    def __len__(self):\n",
    "        return len(self.tokens)\n",
    "\n",
    "    def __getitem__(self, idx):\n",
    "\n",
    "        # print(self.tokenize_function(self.data['predicted_text'][idx]))\n",
    "        # print(self.texts[idx])\n",
    "        tokenized = self.tokens[idx]\n",
    "        return torch.cat([tokenized['input_ids'], \n",
    "                          tokenized['token_type_ids'], \n",
    "                          tokenized['attention_mask']], 0), torch.tensor(self.emotion2label[self.labels[idx]])\n",
    "            \n",
    "        "
   ]
  },
  {
   "cell_type": "code",
   "execution_count": 52,
   "id": "d141cc37-8e30-469c-95bf-ad8e898b9aee",
   "metadata": {},
   "outputs": [],
   "source": [
    "train = TestDataset(dataset, shuffle=True)\n",
    "test = TestDataset(dataset_dataframe, shuffle=True)"
   ]
  },
  {
   "cell_type": "code",
   "execution_count": 53,
   "id": "e834b879-8601-4463-ba7f-cd7f2b0641d3",
   "metadata": {},
   "outputs": [
    {
     "data": {
      "text/plain": [
       "40554"
      ]
     },
     "execution_count": 53,
     "metadata": {},
     "output_type": "execute_result"
    }
   ],
   "source": [
    "len(train)"
   ]
  },
  {
   "cell_type": "code",
   "execution_count": 54,
   "id": "50c80f7b-a939-4a03-9536-4388020986e5",
   "metadata": {},
   "outputs": [],
   "source": [
    "bs = 32\n",
    "test_loader = DataLoader(\n",
    "    test,\n",
    "    batch_size = bs,\n",
    "    collate_fn=collator\n",
    ")\n",
    "train_loader = DataLoader(\n",
    "    train,\n",
    "    batch_size = bs,\n",
    "    collate_fn=collator\n",
    ")"
   ]
  },
  {
   "cell_type": "code",
   "execution_count": 55,
   "id": "c7720cfa-0483-4a7c-8d9e-3aac24ac4782",
   "metadata": {},
   "outputs": [],
   "source": [
    "device = 'cuda'"
   ]
  },
  {
   "cell_type": "code",
   "execution_count": 56,
   "id": "3cb46101-a17f-4ae8-99c3-ce8445b56ffe",
   "metadata": {},
   "outputs": [
    {
     "name": "stderr",
     "output_type": "stream",
     "text": [
      "Some weights of BertForSequenceClassification were not initialized from the model checkpoint at Aniemore/rubert-tiny2-russian-emotion-detection and are newly initialized because the shapes did not match:\n",
      "- classifier.bias: found shape torch.Size([7]) in the checkpoint and torch.Size([5]) in the model instantiated\n",
      "- classifier.weight: found shape torch.Size([7, 312]) in the checkpoint and torch.Size([5, 312]) in the model instantiated\n",
      "You should probably TRAIN this model on a down-stream task to be able to use it for predictions and inference.\n"
     ]
    }
   ],
   "source": [
    "\n",
    "model = BertForSequenceClassification.from_pretrained('Aniemore/rubert-tiny2-russian-emotion-detection', ignore_mismatched_sizes=True, return_dict=True, num_labels=5).to(device)\n",
    "None"
   ]
  },
  {
   "cell_type": "code",
   "execution_count": 76,
   "id": "3037ee69-8ec6-452e-81d7-fb0ff45788f5",
   "metadata": {},
   "outputs": [],
   "source": [
    "import pickle"
   ]
  },
  {
   "cell_type": "code",
   "execution_count": 78,
   "id": "ba94873e-816d-4bf6-be74-07782c0156bf",
   "metadata": {},
   "outputs": [],
   "source": [
    "pickle.dump(dataset, open('dataset.pkl', 'wb'))"
   ]
  },
  {
   "cell_type": "code",
   "execution_count": 57,
   "id": "7939acf4-93d3-4349-b2fe-ef1f7cf737f3",
   "metadata": {},
   "outputs": [
    {
     "name": "stdout",
     "output_type": "stream",
     "text": [
      "2e-05\n"
     ]
    }
   ],
   "source": [
    "print(float(2e-5))"
   ]
  },
  {
   "cell_type": "code",
   "execution_count": 58,
   "id": "f4e34f5d-f8ba-40ad-af6e-2e7466ae40f9",
   "metadata": {},
   "outputs": [],
   "source": [
    "# loss = nn.CrossEntropyLoss()\n",
    "optimizer = AdamW(model.parameters(), lr = 5e-5)"
   ]
  },
  {
   "cell_type": "code",
   "execution_count": 59,
   "id": "50989323-e660-4548-a92d-05fe6033adba",
   "metadata": {},
   "outputs": [],
   "source": [
    "epochs = 8\n",
    "losses = []"
   ]
  },
  {
   "cell_type": "code",
   "execution_count": 60,
   "id": "12b8b3c7-a777-45af-accc-885f9570056b",
   "metadata": {},
   "outputs": [],
   "source": [
    "model.train()\n",
    "None"
   ]
  },
  {
   "cell_type": "code",
   "execution_count": 61,
   "id": "ec471ef5-b77e-4e60-893f-14871707bdcb",
   "metadata": {},
   "outputs": [],
   "source": [
    "# for name, param in model.named_parameters():\n",
    "#     if 'classifier' not in name: # classifier layer\n",
    "#         param.requires_grad = False\n",
    "#     else:\n",
    "#         param.requires_grad = True\n"
   ]
  },
  {
   "cell_type": "code",
   "execution_count": 62,
   "id": "5b0a8ac6-07b9-406c-b261-6e7270d95b9e",
   "metadata": {},
   "outputs": [
    {
     "data": {
      "application/vnd.jupyter.widget-view+json": {
       "model_id": "289b28041f4641bca9abd30c13e1bf5a",
       "version_major": 2,
       "version_minor": 0
      },
      "text/plain": [
       "  0%|          | 0/1268 [00:00<?, ?it/s]"
      ]
     },
     "metadata": {},
     "output_type": "display_data"
    },
    {
     "data": {
      "application/vnd.jupyter.widget-view+json": {
       "model_id": "b9ec75b2f818489fbb1d2fb91ec86baf",
       "version_major": 2,
       "version_minor": 0
      },
      "text/plain": [
       "  0%|          | 0/1268 [00:00<?, ?it/s]"
      ]
     },
     "metadata": {},
     "output_type": "display_data"
    },
    {
     "data": {
      "application/vnd.jupyter.widget-view+json": {
       "model_id": "f4a0001e4a194aef97419816f5e27400",
       "version_major": 2,
       "version_minor": 0
      },
      "text/plain": [
       "  0%|          | 0/1268 [00:00<?, ?it/s]"
      ]
     },
     "metadata": {},
     "output_type": "display_data"
    },
    {
     "data": {
      "application/vnd.jupyter.widget-view+json": {
       "model_id": "8d11f52de39a4808879f321abefc620a",
       "version_major": 2,
       "version_minor": 0
      },
      "text/plain": [
       "  0%|          | 0/1268 [00:00<?, ?it/s]"
      ]
     },
     "metadata": {},
     "output_type": "display_data"
    },
    {
     "data": {
      "application/vnd.jupyter.widget-view+json": {
       "model_id": "2b072541323e4eb68ad5b0c26930d236",
       "version_major": 2,
       "version_minor": 0
      },
      "text/plain": [
       "  0%|          | 0/1268 [00:00<?, ?it/s]"
      ]
     },
     "metadata": {},
     "output_type": "display_data"
    },
    {
     "data": {
      "application/vnd.jupyter.widget-view+json": {
       "model_id": "c4ba33cb47bb414a9d982ec7a6b88df7",
       "version_major": 2,
       "version_minor": 0
      },
      "text/plain": [
       "  0%|          | 0/1268 [00:00<?, ?it/s]"
      ]
     },
     "metadata": {},
     "output_type": "display_data"
    },
    {
     "data": {
      "application/vnd.jupyter.widget-view+json": {
       "model_id": "58e587ec25ee468bb60d11abd81835a5",
       "version_major": 2,
       "version_minor": 0
      },
      "text/plain": [
       "  0%|          | 0/1268 [00:00<?, ?it/s]"
      ]
     },
     "metadata": {},
     "output_type": "display_data"
    },
    {
     "data": {
      "application/vnd.jupyter.widget-view+json": {
       "model_id": "8d86f1ffbfee4a53abaa47530fd0996f",
       "version_major": 2,
       "version_minor": 0
      },
      "text/plain": [
       "  0%|          | 0/1268 [00:00<?, ?it/s]"
      ]
     },
     "metadata": {},
     "output_type": "display_data"
    }
   ],
   "source": [
    "# b_input_ids, b_input_mask, b_type_ids,  b_labels = data[:, 0, :], data[:, 1, :], data[:, 2, :], labels\n",
    "\n",
    "for epoch in range(epochs):\n",
    "    for batch in tqdm(train_loader):\n",
    "        optimizer.zero_grad()\n",
    "        \n",
    "        data, labels = batch\n",
    "        b_input_ids, b_type_ids, b_input_mask,  = data[:, 0, :], data[:, 1, :], data[:, 2, :]\n",
    "        one_hot_labels = nn.functional.one_hot(labels.cuda(), num_classes=5).float()\n",
    "        output = model(b_input_ids.cuda().long(),\n",
    "                       b_input_mask.cuda(),\n",
    "                       b_type_ids.cuda().long(),\n",
    "                       labels=one_hot_labels\n",
    "                      )\n",
    "        # print(output)\n",
    "        loss_ = output[0]\n",
    "        loss_.backward()\n",
    "        losses.append(loss_.cpu())\n",
    "        optimizer.step()\n",
    "\n",
    "        "
   ]
  },
  {
   "cell_type": "code",
   "execution_count": 63,
   "id": "db125b00-325c-4507-9c6f-010044c08b3d",
   "metadata": {},
   "outputs": [
    {
     "name": "stdout",
     "output_type": "stream",
     "text": [
      "huggingface/tokenizers: The current process just got forked, after parallelism has already been used. Disabling parallelism to avoid deadlocks...\n",
      "To disable this warning, you can either:\n",
      "\t- Avoid using `tokenizers` before the fork if possible\n",
      "\t- Explicitly set the environment variable TOKENIZERS_PARALLELISM=(true | false)\n",
      "huggingface/tokenizers: The current process just got forked, after parallelism has already been used. Disabling parallelism to avoid deadlocks...\n",
      "To disable this warning, you can either:\n",
      "\t- Avoid using `tokenizers` before the fork if possible\n",
      "\t- Explicitly set the environment variable TOKENIZERS_PARALLELISM=(true | false)\n"
     ]
    }
   ],
   "source": [
    "import matplotlib.pyplot as plt"
   ]
  },
  {
   "cell_type": "code",
   "execution_count": 64,
   "id": "64a1d5bb-a385-421c-8545-c62f3f119bfb",
   "metadata": {},
   "outputs": [
    {
     "data": {
      "text/plain": [
       "[<matplotlib.lines.Line2D at 0x7f6449077fa0>]"
      ]
     },
     "execution_count": 64,
     "metadata": {},
     "output_type": "execute_result"
    },
    {
     "data": {
      "image/png": "[encoded data removed]",
      "text/plain": [
       "<Figure size 640x480 with 1 Axes>"
      ]
     },
     "metadata": {},
     "output_type": "display_data"
    }
   ],
   "source": [
    "plt.plot(list(range(len(losses))), [x.detach().cpu() for x in losses])"
   ]
  },
  {
   "cell_type": "code",
   "execution_count": 65,
   "id": "ee264ab3-dc77-4061-b81f-cfc7e71b5d18",
   "metadata": {},
   "outputs": [
    {
     "name": "stdout",
     "output_type": "stream",
     "text": [
      "24171\n"
     ]
    },
    {
     "data": {
      "application/vnd.jupyter.widget-view+json": {
       "model_id": "4749abdaba5e439d8057a3ab968c1f1d",
       "version_major": 2,
       "version_minor": 0
      },
      "text/plain": [
       "  0%|          | 0/756 [00:00<?, ?it/s]"
      ]
     },
     "metadata": {},
     "output_type": "display_data"
    }
   ],
   "source": [
    "correct = 0\n",
    "print(len(test))\n",
    "model = model.eval()\n",
    "pred = []\n",
    "test_arr = []\n",
    "for batch in tqdm(test_loader):\n",
    "    data, labels = batch\n",
    "    b_input_ids, b_type_ids, b_input_mask  = data[:, 0, :], data[:, 1, :], data[:, 2, :]\n",
    "    output = model(b_input_ids.long().cuda(),\n",
    "                   b_input_mask.cuda(),\n",
    "                   b_type_ids.long().cuda())\n",
    "    # print(output[0][1].cpu())\n",
    "    # print(torch.argmax(output[0], dim=1))\n",
    "    correct += torch.sum(torch.argmax(output[0].cpu()) == labels)\n",
    "    pred.append(torch.argmax(output[0], dim=1).detach().cpu())\n",
    "    test_arr.append(labels.detach().cpu())\n",
    "\n",
    "# print(correct/len(test))\n",
    "        "
   ]
  },
  {
   "cell_type": "code",
   "execution_count": 66,
   "id": "4c64e02f-fba7-4a15-85b7-e170b45f6028",
   "metadata": {},
   "outputs": [
    {
     "name": "stdout",
     "output_type": "stream",
     "text": [
      "              precision    recall  f1-score   support\n",
      "\n",
      "           0       0.83      0.54      0.66     15886\n",
      "           1       0.44      0.70      0.54      2481\n",
      "           2       0.19      0.32      0.23      2506\n",
      "           3       0.38      0.45      0.41      3072\n",
      "           4       0.09      0.82      0.16       226\n",
      "\n",
      "    accuracy                           0.52     24171\n",
      "   macro avg       0.39      0.56      0.40     24171\n",
      "weighted avg       0.66      0.52      0.56     24171\n",
      "\n"
     ]
    }
   ],
   "source": [
    "from sklearn.metrics import classification_report\n",
    "pred = torch.cat(pred, dim=0)\n",
    "test_arr = torch.cat(test_arr, dim=0)\n",
    "print(classification_report(test_arr, pred))"
   ]
  },
  {
   "cell_type": "code",
   "execution_count": 67,
   "id": "052d4f8b-9860-4459-8f4b-2b3bed493501",
   "metadata": {},
   "outputs": [
    {
     "name": "stdout",
     "output_type": "stream",
     "text": [
      "huggingface/tokenizers: The current process just got forked, after parallelism has already been used. Disabling parallelism to avoid deadlocks...\n",
      "To disable this warning, you can either:\n",
      "\t- Avoid using `tokenizers` before the fork if possible\n",
      "\t- Explicitly set the environment variable TOKENIZERS_PARALLELISM=(true | false)\n"
     ]
    }
   ],
   "source": [
    "!mkdir model"
   ]
  },
  {
   "cell_type": "code",
   "execution_count": 73,
   "id": "47e30c64-0d0a-4f1e-a42d-859a484d88a5",
   "metadata": {},
   "outputs": [],
   "source": [
    "model.save_pretrained('./model/bert.ppt')"
   ]
  },
  {
   "cell_type": "code",
   "execution_count": 70,
   "id": "8673f84f-3593-41c4-8666-7b1261b39bab",
   "metadata": {},
   "outputs": [
    {
     "name": "stdout",
     "output_type": "stream",
     "text": [
      "huggingface/tokenizers: The current process just got forked, after parallelism has already been used. Disabling parallelism to avoid deadlocks...\n",
      "To disable this warning, you can either:\n",
      "\t- Avoid using `tokenizers` before the fork if possible\n",
      "\t- Explicitly set the environment variable TOKENIZERS_PARALLELISM=(true | false)\n"
     ]
    }
   ],
   "source": [
    "!cd model"
   ]
  },
  {
   "cell_type": "code",
   "execution_count": 74,
   "id": "379639a8-a335-4bec-ac5e-706166128c82",
   "metadata": {},
   "outputs": [
    {
     "name": "stdout",
     "output_type": "stream",
     "text": [
      "huggingface/tokenizers: The current process just got forked, after parallelism has already been used. Disabling parallelism to avoid deadlocks...\n",
      "To disable this warning, you can either:\n",
      "\t- Avoid using `tokenizers` before the fork if possible\n",
      "\t- Explicitly set the environment variable TOKENIZERS_PARALLELISM=(true | false)\n",
      "bert.ppt\n"
     ]
    }
   ],
   "source": [
    "!ls model"
   ]
  },
  {
   "cell_type": "code",
   "execution_count": 40,
   "id": "d6afcc47-be32-425c-b6f0-c98d92fe4d0f",
   "metadata": {},
   "outputs": [],
   "source": [
    "model = model.eval()"
   ]
  },
  {
   "cell_type": "code",
   "execution_count": 28,
   "id": "c631ba8a-113d-4a07-931d-888994073466",
   "metadata": {},
   "outputs": [
    {
     "data": {
      "text/plain": [
       "4520"
      ]
     },
     "execution_count": 28,
     "metadata": {},
     "output_type": "execute_result"
    }
   ],
   "source": [
    "import gc\n",
    "\n",
    "gc.collect()"
   ]
  },
  {
   "cell_type": "code",
   "execution_count": 19,
   "id": "62f7ebc3-e723-4af9-a7d5-a41df361feee",
   "metadata": {},
   "outputs": [
    {
     "data": {
      "text/plain": [
       "BertForSequenceClassification(\n",
       "  (bert): BertModel(\n",
       "    (embeddings): BertEmbeddings(\n",
       "      (word_embeddings): Embedding(83828, 312, padding_idx=0)\n",
       "      (position_embeddings): Embedding(2048, 312)\n",
       "      (token_type_embeddings): Embedding(2, 312)\n",
       "      (LayerNorm): LayerNorm((312,), eps=1e-12, elementwise_affine=True)\n",
       "      (dropout): Dropout(p=0.1, inplace=False)\n",
       "    )\n",
       "    (encoder): BertEncoder(\n",
       "      (layer): ModuleList(\n",
       "        (0-2): 3 x BertLayer(\n",
       "          (attention): BertAttention(\n",
       "            (self): BertSelfAttention(\n",
       "              (query): Linear(in_features=312, out_features=312, bias=True)\n",
       "              (key): Linear(in_features=312, out_features=312, bias=True)\n",
       "              (value): Linear(in_features=312, out_features=312, bias=True)\n",
       "              (dropout): Dropout(p=0.1, inplace=False)\n",
       "            )\n",
       "            (output): BertSelfOutput(\n",
       "              (dense): Linear(in_features=312, out_features=312, bias=True)\n",
       "              (LayerNorm): LayerNorm((312,), eps=1e-12, elementwise_affine=True)\n",
       "              (dropout): Dropout(p=0.1, inplace=False)\n",
       "            )\n",
       "          )\n",
       "          (intermediate): BertIntermediate(\n",
       "            (dense): Linear(in_features=312, out_features=600, bias=True)\n",
       "            (intermediate_act_fn): GELUActivation()\n",
       "          )\n",
       "          (output): BertOutput(\n",
       "            (dense): Linear(in_features=600, out_features=312, bias=True)\n",
       "            (LayerNorm): LayerNorm((312,), eps=1e-12, elementwise_affine=True)\n",
       "            (dropout): Dropout(p=0.1, inplace=False)\n",
       "          )\n",
       "        )\n",
       "      )\n",
       "    )\n",
       "    (pooler): BertPooler(\n",
       "      (dense): Linear(in_features=312, out_features=312, bias=True)\n",
       "      (activation): Tanh()\n",
       "    )\n",
       "  )\n",
       "  (dropout): Dropout(p=0.1, inplace=False)\n",
       "  (classifier): Linear(in_features=312, out_features=5, bias=True)\n",
       ")"
      ]
     },
     "execution_count": 19,
     "metadata": {},
     "output_type": "execute_result"
    }
   ],
   "source": [
    "model.train()"
   ]
  },
  {
   "cell_type": "code",
   "execution_count": 296,
   "id": "46cae19e-43e9-4ac5-95eb-fe3969294590",
   "metadata": {},
   "outputs": [
    {
     "name": "stdout",
     "output_type": "stream",
     "text": [
      "huggingface/tokenizers: The current process just got forked, after parallelism has already been used. Disabling parallelism to avoid deadlocks...\n",
      "To disable this warning, you can either:\n",
      "\t- Avoid using `tokenizers` before the fork if possible\n",
      "\t- Explicitly set the environment variable TOKENIZERS_PARALLELISM=(true | false)\n",
      "Tue Jul 11 13:10:19 2023       \n",
      "+-----------------------------------------------------------------------------+\n",
      "| NVIDIA-SMI 525.125.06   Driver Version: 525.125.06   CUDA Version: 12.0     |\n",
      "|-------------------------------+----------------------+----------------------+\n",
      "| GPU  Name        Persistence-M| Bus-Id        Disp.A | Volatile Uncorr. ECC |\n",
      "| Fan  Temp  Perf  Pwr:Usage/Cap|         Memory-Usage | GPU-Util  Compute M. |\n",
      "|                               |                      |               MIG M. |\n",
      "|===============================+======================+======================|\n",
      "|   0  NVIDIA GeForce ...  On   | 00000000:02:00.0 Off |                  N/A |\n",
      "|  0%   45C    P8    25W / 320W |   9295MiB / 24576MiB |      0%      Default |\n",
      "|                               |                      |                  N/A |\n",
      "+-------------------------------+----------------------+----------------------+\n",
      "                                                                               \n",
      "+-----------------------------------------------------------------------------+\n",
      "| Processes:                                                                  |\n",
      "|  GPU   GI   CI        PID   Type   Process name                  GPU Memory |\n",
      "|        ID   ID                                                   Usage      |\n",
      "|=============================================================================|\n",
      "+-----------------------------------------------------------------------------+\n"
     ]
    }
   ],
   "source": [
    "!nvidia-smi"
   ]
  },
  {
   "cell_type": "code",
   "execution_count": 80,
   "id": "d33b7095-577a-40fb-b819-4cee95de190f",
   "metadata": {},
   "outputs": [],
   "source": [
    "with open('test_dataset.pkl', 'wb') as file:\n",
    "    pickle.dump(dataset_dataframe, file)"
   ]
  },
  {
   "cell_type": "code",
   "execution_count": null,
   "id": "6e8aa9ef-b9f0-4b9c-9a46-8a98f614f23f",
   "metadata": {},
   "outputs": [],
   "source": []
  }
 ],
 "metadata": {
  "kernelspec": {
   "display_name": "Python 3 (ipykernel)",
   "language": "python",
   "name": "python3"
  },
  "language_info": {
   "codemirror_mode": {
    "name": "ipython",
    "version": 3
   },
   "file_extension": ".py",
   "mimetype": "text/x-python",
   "name": "python",
   "nbconvert_exporter": "python",
   "pygments_lexer": "ipython3",
   "version": "3.8.10"
  }
 },
 "nbformat": 4,
 "nbformat_minor": 5
}
